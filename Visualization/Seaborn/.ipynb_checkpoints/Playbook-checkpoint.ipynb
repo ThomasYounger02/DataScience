{
 "cells": [
  {
   "cell_type": "markdown",
   "metadata": {},
   "source": [
    "# 保存图片"
   ]
  },
  {
   "cell_type": "code",
   "execution_count": null,
   "metadata": {},
   "outputs": [],
   "source": [
    "pig = sns.distplot(x, kde=True)\n",
    "fig = pig.get_figure()\n",
    "fig.savefig('保存图像.png',dpi=200)"
   ]
  },
  {
   "cell_type": "markdown",
   "metadata": {},
   "source": [
    "# 汉字显示"
   ]
  },
  {
   "cell_type": "code",
   "execution_count": null,
   "metadata": {},
   "outputs": [],
   "source": [
    "from matplotlib.font_manager import FontProperties\n",
    "sns.set(font=FontProperties(fname=r'C:\\Windows\\Fonts\\simhei.ttf',size=14).get_name())\n",
    "\n",
    "#M atplotlib中文问题\n",
    "plt.rcParams['font.sans-serif'] = ['SimHei']     # 解决中文显示问题-设置字体为黑体\n",
    "plt.rcParams['axes.unicode_minus'] = False      # 解决保存图像是负号'-'显示为方块的问题\n",
    " \n",
    "# Seaborn中文问题\n",
    "plt.rcParams['font.sans-serif'] = ['SimHei']       # 中文字体设置-黑体\n",
    "plt.rcParams['axes.unicode_minus'] = False        # 解决保存图像是负号'-'显示为方块的问题\n",
    "sns.set(font='SimHei')                            # 解决Seaborn中文显示问题"
   ]
  }
 ],
 "metadata": {
  "kernelspec": {
   "display_name": "Python 3",
   "language": "python",
   "name": "python3"
  },
  "language_info": {
   "codemirror_mode": {
    "name": "ipython",
    "version": 3
   },
   "file_extension": ".py",
   "mimetype": "text/x-python",
   "name": "python",
   "nbconvert_exporter": "python",
   "pygments_lexer": "ipython3",
   "version": "3.8.3"
  },
  "toc": {
   "base_numbering": 1,
   "nav_menu": {},
   "number_sections": true,
   "sideBar": true,
   "skip_h1_title": false,
   "title_cell": "Table of Contents",
   "title_sidebar": "Contents",
   "toc_cell": false,
   "toc_position": {},
   "toc_section_display": true,
   "toc_window_display": true
  }
 },
 "nbformat": 4,
 "nbformat_minor": 4
}
